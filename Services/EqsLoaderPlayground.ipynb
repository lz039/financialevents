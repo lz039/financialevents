{
 "cells": [
  {
   "cell_type": "code",
   "id": "initial_id",
   "metadata": {
    "collapsed": true,
    "ExecuteTime": {
     "end_time": "2024-08-05T19:40:48.652716Z",
     "start_time": "2024-08-05T19:40:48.461487Z"
    }
   },
   "source": [
    "import requests\n",
    "from bs4 import BeautifulSoup\n",
    "import pandas as pd\n",
    "import openpyxl\n",
    "from datetime import datetime\n",
    "import streamlit as st"
   ],
   "outputs": [],
   "execution_count": 61
  },
  {
   "metadata": {
    "ExecuteTime": {
     "end_time": "2024-08-05T19:37:57.239590Z",
     "start_time": "2024-08-05T19:37:57.233589Z"
    }
   },
   "cell_type": "code",
   "source": [
    "def parse_german_date(date_string):\n",
    "    if pd.isna(date_string):\n",
    "        return pd.NaT\n",
    "    try:\n",
    "        german_months = {\n",
    "            'Jan': 1, 'Feb': 2, 'Mär': 3, 'Apr': 4, 'Mai': 5, 'Jun': 6,\n",
    "            'Jul': 7, 'Aug': 8, 'Sep': 9, 'Okt': 10, 'Nov': 11, 'Dez': 12\n",
    "        }\n",
    "        day, month, year = date_string.split()\n",
    "        month_num = german_months[month]\n",
    "        return datetime(2000 + int(year), month_num, int(day))\n",
    "    except (ValueError, KeyError):\n",
    "        return pd.NaT  # Return Not-a-Time for any parsing errors"
   ],
   "id": "d255a94d355503f2",
   "outputs": [],
   "execution_count": 57
  },
  {
   "metadata": {
    "ExecuteTime": {
     "end_time": "2024-08-05T19:38:59.315794Z",
     "start_time": "2024-08-05T19:38:58.190727Z"
    }
   },
   "cell_type": "code",
   "source": [
    "res = requests.get(f\"https://www.eqs-news.com/wp/wp-admin/admin-ajax.php?lang=de&action=fetch_realtime_events_data&recordsFrom[0][api_type]=events&recordsFrom[0][category]=future&pageLimit=10000&pageNo=1&additional[is_new]=false&additional[mode]=append&loadFrom=mysql&time=\")\n",
    "if (res.status_code == 200):\n",
    "    soup = BeautifulSoup(res.text, 'html.parser')\n",
    "    events = []  \n",
    "    event_divs = soup.find_all('div', class_='event')\n",
    "    \n",
    "    for event in event_divs:\n",
    "        event_data = {}\n",
    "        event_data['company'] = event.find('h4', class_='event__company').get_text(strip=True)\n",
    "        event_data['title'] = event.find('p', class_='event__title').get_text(strip=True)\n",
    "        #event_data['location'] = event.find('div', class_='event__location').get_text(strip=True) if event.find('div', class_='event__location') else None\n",
    "        date = event.find('p', class_='event__date').get_text(strip=True)\n",
    "        month_year = event.find('p', class_='event__month-year').get_text(strip=True)\n",
    "        event_data['date'] = f\"{date} {month_year}\"\n",
    "        #event_data['company_url'] = event['data-events-company-url']\n",
    "        #event_data['company_share_url'] = event['data-events-company-share-url']\n",
    "        #event_data['uuid'] = event['data-events-uuid']\n",
    "        events.append(event_data)\n",
    "    \n",
    "    df = pd.DataFrame(events)\n",
    "    df['converted_dates'] = df['date'].apply(parse_german_date)\n",
    "    df.drop(columns=['date'], inplace=True)\n",
    "    \n",
    "df"
   ],
   "id": "dcd2b89e2c5313ab",
   "outputs": [
    {
     "data": {
      "text/plain": [
       "                          company  \\\n",
       "0                         Intevac   \n",
       "1                      WashTec AG   \n",
       "2        Infineon Technologies AG   \n",
       "3                      Aurubis AG   \n",
       "4         Crescent Energy Company   \n",
       "...                           ...   \n",
       "1077  IVU Traffic Technologies AG   \n",
       "1078  SCHOTT Pharma AG & Co. KGaA   \n",
       "1079         All for One Group SE   \n",
       "1080         All for One Group SE   \n",
       "1081         All for One Group SE   \n",
       "\n",
       "                                                  title converted_dates  \n",
       "0                                Analystenveranstaltung      2024-08-05  \n",
       "1              Veröffentlichung Halbjahresfinanzbericht      2024-08-05  \n",
       "2     Veröffentlichung Quartalsmitteilung (Stichtag Q3)      2024-08-05  \n",
       "3     Veröffentlichung Quartalsmitteilung (Stichtag Q3)      2024-08-05  \n",
       "4                                                            2024-08-06  \n",
       "...                                                 ...             ...  \n",
       "1077  Veröffentlichung Quartalsmitteilung (Stichtag Q3)      2025-11-20  \n",
       "1078               Veröffentlichung Jahresfinanzbericht      2025-12-10  \n",
       "1079                             Analystenveranstaltung      2025-12-15  \n",
       "1080                              Bilanzpressekonferenz      2025-12-15  \n",
       "1081               Veröffentlichung Jahresfinanzbericht      2025-12-15  \n",
       "\n",
       "[1082 rows x 3 columns]"
      ],
      "text/html": [
       "<div>\n",
       "<style scoped>\n",
       "    .dataframe tbody tr th:only-of-type {\n",
       "        vertical-align: middle;\n",
       "    }\n",
       "\n",
       "    .dataframe tbody tr th {\n",
       "        vertical-align: top;\n",
       "    }\n",
       "\n",
       "    .dataframe thead th {\n",
       "        text-align: right;\n",
       "    }\n",
       "</style>\n",
       "<table border=\"1\" class=\"dataframe\">\n",
       "  <thead>\n",
       "    <tr style=\"text-align: right;\">\n",
       "      <th></th>\n",
       "      <th>company</th>\n",
       "      <th>title</th>\n",
       "      <th>converted_dates</th>\n",
       "    </tr>\n",
       "  </thead>\n",
       "  <tbody>\n",
       "    <tr>\n",
       "      <th>0</th>\n",
       "      <td>Intevac</td>\n",
       "      <td>Analystenveranstaltung</td>\n",
       "      <td>2024-08-05</td>\n",
       "    </tr>\n",
       "    <tr>\n",
       "      <th>1</th>\n",
       "      <td>WashTec AG</td>\n",
       "      <td>Veröffentlichung Halbjahresfinanzbericht</td>\n",
       "      <td>2024-08-05</td>\n",
       "    </tr>\n",
       "    <tr>\n",
       "      <th>2</th>\n",
       "      <td>Infineon Technologies AG</td>\n",
       "      <td>Veröffentlichung Quartalsmitteilung (Stichtag Q3)</td>\n",
       "      <td>2024-08-05</td>\n",
       "    </tr>\n",
       "    <tr>\n",
       "      <th>3</th>\n",
       "      <td>Aurubis AG</td>\n",
       "      <td>Veröffentlichung Quartalsmitteilung (Stichtag Q3)</td>\n",
       "      <td>2024-08-05</td>\n",
       "    </tr>\n",
       "    <tr>\n",
       "      <th>4</th>\n",
       "      <td>Crescent Energy Company</td>\n",
       "      <td></td>\n",
       "      <td>2024-08-06</td>\n",
       "    </tr>\n",
       "    <tr>\n",
       "      <th>...</th>\n",
       "      <td>...</td>\n",
       "      <td>...</td>\n",
       "      <td>...</td>\n",
       "    </tr>\n",
       "    <tr>\n",
       "      <th>1077</th>\n",
       "      <td>IVU Traffic Technologies AG</td>\n",
       "      <td>Veröffentlichung Quartalsmitteilung (Stichtag Q3)</td>\n",
       "      <td>2025-11-20</td>\n",
       "    </tr>\n",
       "    <tr>\n",
       "      <th>1078</th>\n",
       "      <td>SCHOTT Pharma AG &amp; Co. KGaA</td>\n",
       "      <td>Veröffentlichung Jahresfinanzbericht</td>\n",
       "      <td>2025-12-10</td>\n",
       "    </tr>\n",
       "    <tr>\n",
       "      <th>1079</th>\n",
       "      <td>All for One Group SE</td>\n",
       "      <td>Analystenveranstaltung</td>\n",
       "      <td>2025-12-15</td>\n",
       "    </tr>\n",
       "    <tr>\n",
       "      <th>1080</th>\n",
       "      <td>All for One Group SE</td>\n",
       "      <td>Bilanzpressekonferenz</td>\n",
       "      <td>2025-12-15</td>\n",
       "    </tr>\n",
       "    <tr>\n",
       "      <th>1081</th>\n",
       "      <td>All for One Group SE</td>\n",
       "      <td>Veröffentlichung Jahresfinanzbericht</td>\n",
       "      <td>2025-12-15</td>\n",
       "    </tr>\n",
       "  </tbody>\n",
       "</table>\n",
       "<p>1082 rows × 3 columns</p>\n",
       "</div>"
      ]
     },
     "execution_count": 60,
     "metadata": {},
     "output_type": "execute_result"
    }
   ],
   "execution_count": 60
  },
  {
   "metadata": {
    "ExecuteTime": {
     "end_time": "2024-08-05T19:06:21.159978Z",
     "start_time": "2024-08-05T19:06:21.020401Z"
    }
   },
   "cell_type": "code",
   "source": "df.to_excel(\"EqsLoaderPlayground.xlsx\", index=False)",
   "id": "337eff6d281adfcb",
   "outputs": [],
   "execution_count": 13
  },
  {
   "metadata": {
    "ExecuteTime": {
     "end_time": "2024-08-05T19:43:18.780937Z",
     "start_time": "2024-08-05T19:43:18.652507Z"
    }
   },
   "cell_type": "code",
   "source": "st.dataframe(df)",
   "id": "3a93a0d7cb6f6a70",
   "outputs": [
    {
     "name": "stderr",
     "output_type": "stream",
     "text": [
      "2024-08-05 21:43:18.770 \n",
      "  \u001B[33m\u001B[1mWarning:\u001B[0m to view this Streamlit app on a browser, run it with the following\n",
      "  command:\n",
      "\n",
      "    streamlit run D:\\zail\\eqsloader\\eqsloader\\.venv\\lib\\site-packages\\ipykernel_launcher.py [ARGUMENTS]\n"
     ]
    },
    {
     "data": {
      "text/plain": [
       "DeltaGenerator()"
      ]
     },
     "execution_count": 62,
     "metadata": {},
     "output_type": "execute_result"
    }
   ],
   "execution_count": 62
  }
 ],
 "metadata": {
  "kernelspec": {
   "display_name": "Python 3",
   "language": "python",
   "name": "python3"
  },
  "language_info": {
   "codemirror_mode": {
    "name": "ipython",
    "version": 2
   },
   "file_extension": ".py",
   "mimetype": "text/x-python",
   "name": "python",
   "nbconvert_exporter": "python",
   "pygments_lexer": "ipython2",
   "version": "2.7.6"
  }
 },
 "nbformat": 4,
 "nbformat_minor": 5
}
